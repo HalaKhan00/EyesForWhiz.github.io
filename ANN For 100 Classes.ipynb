{
  "cells": [
    {
      "cell_type": "code",
      "execution_count": 9,
      "metadata": {
        "id": "pELLUNVzJWB6"
      },
      "outputs": [],
      "source": [
        "import tensorflow\n",
        "from tensorflow import keras\n",
        "from tensorflow.keras import Sequential\n",
        "from tensorflow.keras.layers import Dense,Flatten\n",
        "import cv as cv2"
      ]
    },
    {
      "cell_type": "code",
      "execution_count": 10,
      "metadata": {
        "id": "KRTH93VyMYF7"
      },
      "outputs": [],
      "source": [
        "from keras.datasets import cifar100\n",
        "(X_train,y_train),(X_test,y_test) = cifar100.load_data()"
      ]
    },
    {
      "cell_type": "code",
      "execution_count": 11,
      "metadata": {
        "colab": {
          "base_uri": "https://localhost:8080/"
        },
        "id": "m0hHUKoNMpsZ",
        "outputId": "b243b032-cf73-4290-a955-78eabd0a129e"
      },
      "outputs": [
        {
          "data": {
            "text/plain": [
              "(10000, 32, 32, 3)"
            ]
          },
          "execution_count": 11,
          "metadata": {},
          "output_type": "execute_result"
        }
      ],
      "source": [
        "X_test.shape"
      ]
    },
    {
      "cell_type": "code",
      "execution_count": 12,
      "metadata": {
        "colab": {
          "base_uri": "https://localhost:8080/"
        },
        "id": "skzwnglnMzl6",
        "outputId": "d577dd46-1ecc-4cc5-f876-0d334cd13b34"
      },
      "outputs": [
        {
          "data": {
            "text/plain": [
              "99"
            ]
          },
          "execution_count": 12,
          "metadata": {},
          "output_type": "execute_result"
        }
      ],
      "source": [
        "y_train.max()"
      ]
    },
    {
      "cell_type": "code",
      "execution_count": 13,
      "metadata": {
        "colab": {
          "base_uri": "https://localhost:8080/",
          "height": 209
        },
        "id": "jr2MuKsKRH5G",
        "outputId": "a01e4188-dc25-4231-a5c1-9c1c02aaa7ca"
      },
      "outputs": [],
      "source": [
        "import matplotlib.pyplot as plt\n"
      ]
    },
    {
      "cell_type": "code",
      "execution_count": 15,
      "metadata": {
        "colab": {
          "base_uri": "https://localhost:8080/",
          "height": 460
        },
        "id": "r9WcO6W5YMz6",
        "outputId": "db366dde-f9b8-442a-c052-87bdb553e2d1"
      },
      "outputs": [
        {
          "ename": "AttributeError",
          "evalue": "module 'cv' has no attribute 'cvtColor'",
          "output_type": "error",
          "traceback": [
            "\u001b[1;31m---------------------------------------------------------------------------\u001b[0m",
            "\u001b[1;31mAttributeError\u001b[0m                            Traceback (most recent call last)",
            "Cell \u001b[1;32mIn [15], line 2\u001b[0m\n\u001b[0;32m      1\u001b[0m \u001b[39mimport\u001b[39;00m \u001b[39mnumpy\u001b[39;00m \u001b[39mas\u001b[39;00m \u001b[39mnp\u001b[39;00m\n\u001b[1;32m----> 2\u001b[0m X_train\u001b[39m=\u001b[39mnp\u001b[39m.\u001b[39marray([cv2\u001b[39m.\u001b[39mcvtColor(image, cv2\u001b[39m.\u001b[39mCOLOR_BGR2GRAY) \u001b[39mfor\u001b[39;00m image \u001b[39min\u001b[39;00m X_train])\n\u001b[0;32m      3\u001b[0m X_test\u001b[39m=\u001b[39mnp\u001b[39m.\u001b[39marray([cv2\u001b[39m.\u001b[39mcvtColor(image, cv2\u001b[39m.\u001b[39mCOLOR_BGR2GRAY) \u001b[39mfor\u001b[39;00m image \u001b[39min\u001b[39;00m X_test])\n",
            "Cell \u001b[1;32mIn [15], line 2\u001b[0m, in \u001b[0;36m<listcomp>\u001b[1;34m(.0)\u001b[0m\n\u001b[0;32m      1\u001b[0m \u001b[39mimport\u001b[39;00m \u001b[39mnumpy\u001b[39;00m \u001b[39mas\u001b[39;00m \u001b[39mnp\u001b[39;00m\n\u001b[1;32m----> 2\u001b[0m X_train\u001b[39m=\u001b[39mnp\u001b[39m.\u001b[39marray([cv2\u001b[39m.\u001b[39;49mcvtColor(image, cv2\u001b[39m.\u001b[39mCOLOR_BGR2GRAY) \u001b[39mfor\u001b[39;00m image \u001b[39min\u001b[39;00m X_train])\n\u001b[0;32m      3\u001b[0m X_test\u001b[39m=\u001b[39mnp\u001b[39m.\u001b[39marray([cv2\u001b[39m.\u001b[39mcvtColor(image, cv2\u001b[39m.\u001b[39mCOLOR_BGR2GRAY) \u001b[39mfor\u001b[39;00m image \u001b[39min\u001b[39;00m X_test])\n",
            "\u001b[1;31mAttributeError\u001b[0m: module 'cv' has no attribute 'cvtColor'"
          ]
        }
      ],
      "source": [
        "import numpy as np\n",
        "X_train=np.array([cv2.cvtColor(image, cv2.COLOR_BGR2GRAY) for image in X_train])\n",
        "X_test=np.array([cv2.cvtColor(image, cv2.COLOR_BGR2GRAY) for image in X_test])\n"
      ]
    },
    {
      "cell_type": "code",
      "execution_count": 16,
      "metadata": {
        "colab": {
          "base_uri": "https://localhost:8080/",
          "height": 283
        },
        "id": "Ow0EN5YAYegy",
        "outputId": "38e124d5-c63e-4bc3-cf0b-659ecb5efa68"
      },
      "outputs": [
        {
          "data": {
            "text/plain": [
              "<matplotlib.image.AxesImage at 0x140d3a248e0>"
            ]
          },
          "execution_count": 16,
          "metadata": {},
          "output_type": "execute_result"
        },
        {
          "data": {
            "image/png": "[encoded data removed]",
            "text/plain": [
              "<Figure size 640x480 with 1 Axes>"
            ]
          },
          "metadata": {},
          "output_type": "display_data"
        }
      ],
      "source": [
        "\n",
        "plt.imshow(X_train[12])"
      ]
    },
    {
      "cell_type": "code",
      "execution_count": null,
      "metadata": {
        "id": "dJmO2WLlRRT1"
      },
      "outputs": [],
      "source": [
        "X_train = X_train/255\n",
        "X_test = X_test/255"
      ]
    },
    {
      "cell_type": "code",
      "execution_count": null,
      "metadata": {
        "colab": {
          "base_uri": "https://localhost:8080/"
        },
        "id": "i1WA9FioRdtB",
        "outputId": "64cc94ab-572c-4272-edab-953094bc75dd"
      },
      "outputs": [
        {
          "data": {
            "text/plain": [
              "array([[1.        , 1.        , 1.        , ..., 0.78431373, 0.85098039,\n",
              "        0.7254902 ],\n",
              "       [1.        , 0.99607843, 0.99607843, ..., 0.65882353, 0.61176471,\n",
              "        0.55294118],\n",
              "       [1.        , 0.99607843, 1.        , ..., 0.74117647, 0.63529412,\n",
              "        0.4627451 ],\n",
              "       ...,\n",
              "       [0.58431373, 0.54901961, 0.54509804, ..., 0.05490196, 0.18823529,\n",
              "        0.23529412],\n",
              "       [0.49411765, 0.47843137, 0.50980392, ..., 0.05098039, 0.36862745,\n",
              "        0.5372549 ],\n",
              "       [0.36862745, 0.36470588, 0.41960784, ..., 0.10980392, 0.42352941,\n",
              "        0.55294118]])"
            ]
          },
          "execution_count": 92,
          "metadata": {},
          "output_type": "execute_result"
        }
      ],
      "source": [
        "X_train[0]"
      ]
    },
    {
      "cell_type": "code",
      "execution_count": null,
      "metadata": {
        "id": "jr78UU88Rzm6"
      },
      "outputs": [],
      "source": [
        "model = Sequential()\n",
        "\n",
        "model.add(Flatten(input_shape=(32,32)))\n",
        "model.add(Dense(128,activation='relu'))\n",
        "model.add(Dense(128,activation='relu'))\n",
        "model.add(Dense(32,activation='relu'))\n",
        "model.add(Dense(100,activation='softmax'))"
      ]
    },
    {
      "cell_type": "code",
      "execution_count": null,
      "metadata": {
        "colab": {
          "base_uri": "https://localhost:8080/"
        },
        "id": "ECogPfG5SmNI",
        "outputId": "93956e3a-0099-47d2-b6aa-e693386636ba"
      },
      "outputs": [
        {
          "name": "stdout",
          "output_type": "stream",
          "text": [
            "Model: \"sequential_4\"\n",
            "_________________________________________________________________\n",
            " Layer (type)                Output Shape              Param #   \n",
            "=================================================================\n",
            " flatten_4 (Flatten)         (None, 1024)              0         \n",
            "                                                                 \n",
            " dense_16 (Dense)            (None, 128)               131200    \n",
            "                                                                 \n",
            " dense_17 (Dense)            (None, 128)               16512     \n",
            "                                                                 \n",
            " dense_18 (Dense)            (None, 32)                4128      \n",
            "                                                                 \n",
            " dense_19 (Dense)            (None, 100)               3300      \n",
            "                                                                 \n",
            "=================================================================\n",
            "Total params: 155,140\n",
            "Trainable params: 155,140\n",
            "Non-trainable params: 0\n",
            "_________________________________________________________________\n"
          ]
        }
      ],
      "source": [
        "model.summary()"
      ]
    },
    {
      "cell_type": "code",
      "execution_count": null,
      "metadata": {
        "id": "0yC51WgjSsLV"
      },
      "outputs": [],
      "source": [
        "model.compile(loss='sparse_categorical_crossentropy',optimizer='Adam',metrics=['accuracy'])"
      ]
    },
    {
      "cell_type": "code",
      "execution_count": null,
      "metadata": {
        "id": "IyNsTOwNUijr"
      },
      "outputs": [],
      "source": [
        "import cv2\n",
        "\n",
        "from keras.callbacks import EarlyStopping\n",
        "\n",
        "import numpy as np"
      ]
    },
    {
      "cell_type": "code",
      "execution_count": null,
      "metadata": {
        "id": "CbBxr24npTVQ"
      },
      "outputs": [],
      "source": [
        "early_stopping = EarlyStopping(monitor='val_loss', min_delta=0, patience=15, verbose=1, mode='auto', baseline=None, restore_best_weights=False)\n"
      ]
    },
    {
      "cell_type": "code",
      "execution_count": null,
      "metadata": {
        "colab": {
          "base_uri": "https://localhost:8080/"
        },
        "id": "L-fkwmIvWT8M",
        "outputId": "82becc17-d011-4cef-fb99-98ec9ce0ff0c"
      },
      "outputs": [
        {
          "name": "stdout",
          "output_type": "stream",
          "text": [
            "Epoch 1/100\n",
            "40/40 [==============================] - 1s 27ms/step - loss: 3.6808 - accuracy: 0.0553 - val_loss: 3.0178 - val_accuracy: 0.0707\n",
            "Epoch 2/100\n",
            "40/40 [==============================] - 1s 22ms/step - loss: 2.9318 - accuracy: 0.0997 - val_loss: 2.8857 - val_accuracy: 0.1045\n",
            "Epoch 3/100\n",
            "40/40 [==============================] - 1s 22ms/step - loss: 2.8614 - accuracy: 0.1208 - val_loss: 2.8341 - val_accuracy: 0.1315\n",
            "Epoch 4/100\n",
            "40/40 [==============================] - 1s 23ms/step - loss: 2.8253 - accuracy: 0.1338 - val_loss: 2.8095 - val_accuracy: 0.1377\n",
            "Epoch 5/100\n",
            "40/40 [==============================] - 1s 22ms/step - loss: 2.7962 - accuracy: 0.1412 - val_loss: 2.7975 - val_accuracy: 0.1383\n",
            "Epoch 6/100\n",
            "40/40 [==============================] - 1s 23ms/step - loss: 2.7740 - accuracy: 0.1472 - val_loss: 2.7675 - val_accuracy: 0.1522\n",
            "Epoch 7/100\n",
            "40/40 [==============================] - 1s 23ms/step - loss: 2.7553 - accuracy: 0.1549 - val_loss: 2.7492 - val_accuracy: 0.1602\n",
            "Epoch 8/100\n",
            "40/40 [==============================] - 1s 23ms/step - loss: 2.7389 - accuracy: 0.1627 - val_loss: 2.7409 - val_accuracy: 0.1605\n",
            "Epoch 9/100\n",
            "40/40 [==============================] - 1s 23ms/step - loss: 2.7190 - accuracy: 0.1731 - val_loss: 2.7230 - val_accuracy: 0.1737\n",
            "Epoch 10/100\n",
            "40/40 [==============================] - 1s 23ms/step - loss: 2.7011 - accuracy: 0.1782 - val_loss: 2.6996 - val_accuracy: 0.1798\n",
            "Epoch 11/100\n",
            "40/40 [==============================] - 1s 23ms/step - loss: 2.6839 - accuracy: 0.1841 - val_loss: 2.6838 - val_accuracy: 0.1838\n",
            "Epoch 12/100\n",
            "40/40 [==============================] - 1s 23ms/step - loss: 2.6724 - accuracy: 0.1882 - val_loss: 2.6771 - val_accuracy: 0.1870\n",
            "Epoch 13/100\n",
            "40/40 [==============================] - 1s 22ms/step - loss: 2.6583 - accuracy: 0.1904 - val_loss: 2.6831 - val_accuracy: 0.1875\n",
            "Epoch 14/100\n",
            "40/40 [==============================] - 1s 22ms/step - loss: 2.6447 - accuracy: 0.1966 - val_loss: 2.6711 - val_accuracy: 0.1832\n",
            "Epoch 15/100\n",
            "40/40 [==============================] - 1s 22ms/step - loss: 2.6293 - accuracy: 0.2001 - val_loss: 2.6488 - val_accuracy: 0.1957\n",
            "Epoch 16/100\n",
            "40/40 [==============================] - 1s 23ms/step - loss: 2.6233 - accuracy: 0.2022 - val_loss: 2.6381 - val_accuracy: 0.2029\n",
            "Epoch 17/100\n",
            "40/40 [==============================] - 1s 23ms/step - loss: 2.6120 - accuracy: 0.2053 - val_loss: 2.6278 - val_accuracy: 0.2007\n",
            "Epoch 18/100\n",
            "40/40 [==============================] - 1s 23ms/step - loss: 2.5994 - accuracy: 0.2096 - val_loss: 2.6342 - val_accuracy: 0.1973\n",
            "Epoch 19/100\n",
            "40/40 [==============================] - 1s 23ms/step - loss: 2.5934 - accuracy: 0.2090 - val_loss: 2.6140 - val_accuracy: 0.2076\n",
            "Epoch 20/100\n",
            "40/40 [==============================] - 1s 23ms/step - loss: 2.5786 - accuracy: 0.2140 - val_loss: 2.6148 - val_accuracy: 0.2086\n",
            "Epoch 21/100\n",
            "40/40 [==============================] - 1s 23ms/step - loss: 2.5724 - accuracy: 0.2168 - val_loss: 2.6069 - val_accuracy: 0.2085\n",
            "Epoch 22/100\n",
            "40/40 [==============================] - 1s 23ms/step - loss: 2.5620 - accuracy: 0.2194 - val_loss: 2.5959 - val_accuracy: 0.2152\n",
            "Epoch 23/100\n",
            "40/40 [==============================] - 1s 22ms/step - loss: 2.5507 - accuracy: 0.2203 - val_loss: 2.5971 - val_accuracy: 0.2116\n",
            "Epoch 24/100\n",
            "40/40 [==============================] - 1s 23ms/step - loss: 2.5420 - accuracy: 0.2264 - val_loss: 2.5938 - val_accuracy: 0.2104\n",
            "Epoch 25/100\n",
            "40/40 [==============================] - 1s 23ms/step - loss: 2.5393 - accuracy: 0.2254 - val_loss: 2.5774 - val_accuracy: 0.2159\n",
            "Epoch 26/100\n",
            "40/40 [==============================] - 1s 23ms/step - loss: 2.5288 - accuracy: 0.2288 - val_loss: 2.5876 - val_accuracy: 0.2170\n",
            "Epoch 27/100\n",
            "40/40 [==============================] - 1s 25ms/step - loss: 2.5194 - accuracy: 0.2305 - val_loss: 2.5693 - val_accuracy: 0.2244\n",
            "Epoch 28/100\n",
            "40/40 [==============================] - 2s 44ms/step - loss: 2.5149 - accuracy: 0.2338 - val_loss: 2.5627 - val_accuracy: 0.2200\n",
            "Epoch 29/100\n",
            "40/40 [==============================] - 2s 49ms/step - loss: 2.5063 - accuracy: 0.2346 - val_loss: 2.5669 - val_accuracy: 0.2208\n",
            "Epoch 30/100\n",
            "40/40 [==============================] - 2s 43ms/step - loss: 2.4944 - accuracy: 0.2385 - val_loss: 2.5591 - val_accuracy: 0.2248\n",
            "Epoch 31/100\n",
            "40/40 [==============================] - 1s 35ms/step - loss: 2.4843 - accuracy: 0.2417 - val_loss: 2.5576 - val_accuracy: 0.2225\n",
            "Epoch 32/100\n",
            "40/40 [==============================] - 1s 23ms/step - loss: 2.4845 - accuracy: 0.2414 - val_loss: 2.5556 - val_accuracy: 0.2231\n",
            "Epoch 33/100\n",
            "40/40 [==============================] - 1s 23ms/step - loss: 2.4765 - accuracy: 0.2432 - val_loss: 2.5574 - val_accuracy: 0.2268\n",
            "Epoch 34/100\n",
            "40/40 [==============================] - 1s 24ms/step - loss: 2.4651 - accuracy: 0.2474 - val_loss: 2.5615 - val_accuracy: 0.2248\n",
            "Epoch 35/100\n",
            "40/40 [==============================] - 1s 23ms/step - loss: 2.4612 - accuracy: 0.2482 - val_loss: 2.5615 - val_accuracy: 0.2223\n",
            "Epoch 36/100\n",
            "40/40 [==============================] - 1s 23ms/step - loss: 2.4561 - accuracy: 0.2491 - val_loss: 2.5520 - val_accuracy: 0.2236\n",
            "Epoch 37/100\n",
            "40/40 [==============================] - 1s 24ms/step - loss: 2.4513 - accuracy: 0.2522 - val_loss: 2.5505 - val_accuracy: 0.2278\n",
            "Epoch 38/100\n",
            "40/40 [==============================] - 1s 23ms/step - loss: 2.4422 - accuracy: 0.2550 - val_loss: 2.5414 - val_accuracy: 0.2282\n",
            "Epoch 39/100\n",
            "40/40 [==============================] - 1s 23ms/step - loss: 2.4314 - accuracy: 0.2579 - val_loss: 2.5474 - val_accuracy: 0.2252\n",
            "Epoch 40/100\n",
            "40/40 [==============================] - 1s 24ms/step - loss: 2.4289 - accuracy: 0.2578 - val_loss: 2.5365 - val_accuracy: 0.2309\n",
            "Epoch 41/100\n",
            "40/40 [==============================] - 1s 23ms/step - loss: 2.4227 - accuracy: 0.2596 - val_loss: 2.5431 - val_accuracy: 0.2294\n",
            "Epoch 42/100\n",
            "40/40 [==============================] - 1s 23ms/step - loss: 2.4194 - accuracy: 0.2604 - val_loss: 2.5402 - val_accuracy: 0.2309\n",
            "Epoch 43/100\n",
            "40/40 [==============================] - 1s 23ms/step - loss: 2.4128 - accuracy: 0.2643 - val_loss: 2.5576 - val_accuracy: 0.2253\n",
            "Epoch 44/100\n",
            "40/40 [==============================] - 1s 23ms/step - loss: 2.4051 - accuracy: 0.2662 - val_loss: 2.5384 - val_accuracy: 0.2301\n",
            "Epoch 45/100\n",
            "40/40 [==============================] - 1s 24ms/step - loss: 2.3971 - accuracy: 0.2660 - val_loss: 2.5337 - val_accuracy: 0.2358\n",
            "Epoch 46/100\n",
            "40/40 [==============================] - 1s 23ms/step - loss: 2.3898 - accuracy: 0.2696 - val_loss: 2.5448 - val_accuracy: 0.2365\n",
            "Epoch 47/100\n",
            "40/40 [==============================] - 1s 23ms/step - loss: 2.3868 - accuracy: 0.2695 - val_loss: 2.5330 - val_accuracy: 0.2356\n",
            "Epoch 48/100\n",
            "40/40 [==============================] - 1s 23ms/step - loss: 2.3786 - accuracy: 0.2738 - val_loss: 2.5326 - val_accuracy: 0.2360\n",
            "Epoch 49/100\n",
            "40/40 [==============================] - 1s 23ms/step - loss: 2.3783 - accuracy: 0.2729 - val_loss: 2.5274 - val_accuracy: 0.2371\n",
            "Epoch 50/100\n",
            "40/40 [==============================] - 1s 23ms/step - loss: 2.3748 - accuracy: 0.2730 - val_loss: 2.5522 - val_accuracy: 0.2301\n",
            "Epoch 51/100\n",
            "40/40 [==============================] - 1s 24ms/step - loss: 2.3618 - accuracy: 0.2760 - val_loss: 2.5353 - val_accuracy: 0.2363\n",
            "Epoch 52/100\n",
            "40/40 [==============================] - 1s 23ms/step - loss: 2.3621 - accuracy: 0.2786 - val_loss: 2.5300 - val_accuracy: 0.2358\n",
            "Epoch 53/100\n",
            "40/40 [==============================] - 1s 23ms/step - loss: 2.3515 - accuracy: 0.2803 - val_loss: 2.5359 - val_accuracy: 0.2373\n",
            "Epoch 54/100\n",
            "40/40 [==============================] - 1s 23ms/step - loss: 2.3467 - accuracy: 0.2830 - val_loss: 2.5335 - val_accuracy: 0.2368\n",
            "Epoch 55/100\n",
            "40/40 [==============================] - 1s 23ms/step - loss: 2.3420 - accuracy: 0.2831 - val_loss: 2.5435 - val_accuracy: 0.2331\n",
            "Epoch 56/100\n",
            "40/40 [==============================] - 1s 23ms/step - loss: 2.3394 - accuracy: 0.2841 - val_loss: 2.5250 - val_accuracy: 0.2395\n",
            "Epoch 57/100\n",
            "40/40 [==============================] - 1s 22ms/step - loss: 2.3336 - accuracy: 0.2855 - val_loss: 2.5373 - val_accuracy: 0.2352\n",
            "Epoch 58/100\n",
            "40/40 [==============================] - 1s 25ms/step - loss: 2.3300 - accuracy: 0.2865 - val_loss: 2.5423 - val_accuracy: 0.2364\n",
            "Epoch 59/100\n",
            "40/40 [==============================] - 1s 31ms/step - loss: 2.3191 - accuracy: 0.2891 - val_loss: 2.5357 - val_accuracy: 0.2407\n",
            "Epoch 60/100\n",
            "40/40 [==============================] - 2s 40ms/step - loss: 2.3169 - accuracy: 0.2891 - val_loss: 2.5257 - val_accuracy: 0.2411\n",
            "Epoch 61/100\n",
            "40/40 [==============================] - 2s 46ms/step - loss: 2.3087 - accuracy: 0.2919 - val_loss: 2.5338 - val_accuracy: 0.2354\n",
            "Epoch 62/100\n",
            "40/40 [==============================] - 2s 42ms/step - loss: 2.3105 - accuracy: 0.2899 - val_loss: 2.5323 - val_accuracy: 0.2369\n",
            "Epoch 63/100\n",
            "40/40 [==============================] - 1s 23ms/step - loss: 2.2961 - accuracy: 0.2957 - val_loss: 2.5265 - val_accuracy: 0.2427\n",
            "Epoch 64/100\n",
            "40/40 [==============================] - 1s 23ms/step - loss: 2.2949 - accuracy: 0.2970 - val_loss: 2.5425 - val_accuracy: 0.2402\n",
            "Epoch 65/100\n",
            "40/40 [==============================] - 1s 23ms/step - loss: 2.3024 - accuracy: 0.2921 - val_loss: 2.5366 - val_accuracy: 0.2382\n",
            "Epoch 66/100\n",
            "40/40 [==============================] - 1s 23ms/step - loss: 2.2825 - accuracy: 0.2995 - val_loss: 2.5309 - val_accuracy: 0.2407\n",
            "Epoch 67/100\n",
            "40/40 [==============================] - 1s 23ms/step - loss: 2.2810 - accuracy: 0.3001 - val_loss: 2.5312 - val_accuracy: 0.2368\n",
            "Epoch 68/100\n",
            "40/40 [==============================] - 1s 23ms/step - loss: 2.2776 - accuracy: 0.3013 - val_loss: 2.5419 - val_accuracy: 0.2364\n",
            "Epoch 69/100\n",
            "40/40 [==============================] - 1s 23ms/step - loss: 2.2716 - accuracy: 0.3029 - val_loss: 2.5361 - val_accuracy: 0.2424\n",
            "Epoch 70/100\n",
            "40/40 [==============================] - 1s 23ms/step - loss: 2.2650 - accuracy: 0.3042 - val_loss: 2.5516 - val_accuracy: 0.2370\n",
            "Epoch 71/100\n",
            "40/40 [==============================] - 1s 24ms/step - loss: 2.2635 - accuracy: 0.3041 - val_loss: 2.5372 - val_accuracy: 0.2391\n",
            "Epoch 71: early stopping\n"
          ]
        }
      ],
      "source": [
        "history = model.fit(X_train,y_train,epochs=100,batch_size=1000, validation_split=0.2,callbacks=[early_stopping])"
      ]
    },
    {
      "cell_type": "code",
      "execution_count": null,
      "metadata": {
        "colab": {
          "base_uri": "https://localhost:8080/"
        },
        "id": "CazuknkLW_LY",
        "outputId": "f9faf865-7c18-42f9-c71a-0924969d5617"
      },
      "outputs": [
        {
          "name": "stdout",
          "output_type": "stream",
          "text": [
            "313/313 [==============================] - 1s 2ms/step\n"
          ]
        }
      ],
      "source": [
        "y_prob = model.predict(X_test)"
      ]
    },
    {
      "cell_type": "code",
      "execution_count": null,
      "metadata": {
        "id": "5nELQpFrXQIi"
      },
      "outputs": [],
      "source": [
        "y_pred = y_prob.argmax(axis=1)"
      ]
    },
    {
      "cell_type": "code",
      "execution_count": null,
      "metadata": {
        "colab": {
          "base_uri": "https://localhost:8080/"
        },
        "id": "jcyA9XVHXY6o",
        "outputId": "50e57629-1178-4fbe-e3f5-cdf0ac8b5adc"
      },
      "outputs": [
        {
          "data": {
            "text/plain": [
              "0.2382"
            ]
          },
          "execution_count": 101,
          "metadata": {},
          "output_type": "execute_result"
        }
      ],
      "source": [
        "from sklearn.metrics import accuracy_score\n",
        "accuracy_score(y_test,y_pred)"
      ]
    },
    {
      "cell_type": "code",
      "execution_count": null,
      "metadata": {
        "colab": {
          "base_uri": "https://localhost:8080/",
          "height": 282
        },
        "id": "NT2HxBnDXv_V",
        "outputId": "809997fd-f03a-4c5d-bdee-a4b2f810ed58"
      },
      "outputs": [
        {
          "data": {
            "text/plain": [
              "[<matplotlib.lines.Line2D at 0x7fe1b6663750>]"
            ]
          },
          "execution_count": 102,
          "metadata": {},
          "output_type": "execute_result"
        },
        {
          "data": {
            "image/png": "[encoded data removed]",
            "text/plain": [
              "<Figure size 432x288 with 1 Axes>"
            ]
          },
          "metadata": {
            "needs_background": "light"
          },
          "output_type": "display_data"
        }
      ],
      "source": [
        "plt.plot(history.history['loss'])\n",
        "plt.plot(history.history['val_loss'])"
      ]
    },
    {
      "cell_type": "code",
      "execution_count": null,
      "metadata": {
        "colab": {
          "base_uri": "https://localhost:8080/",
          "height": 282
        },
        "id": "Ln1DIjDOY8E7",
        "outputId": "b97db722-2c00-413d-93ed-ed189b0fe18a"
      },
      "outputs": [
        {
          "data": {
            "text/plain": [
              "[<matplotlib.lines.Line2D at 0x7fe1b65e5490>]"
            ]
          },
          "execution_count": 103,
          "metadata": {},
          "output_type": "execute_result"
        },
        {
          "data": {
            "image/png": "[encoded data removed]",
            "text/plain": [
              "<Figure size 432x288 with 1 Axes>"
            ]
          },
          "metadata": {
            "needs_background": "light"
          },
          "output_type": "display_data"
        }
      ],
      "source": [
        "plt.plot(history.history['accuracy'])\n",
        "plt.plot(history.history['val_accuracy'])"
      ]
    },
    {
      "cell_type": "code",
      "execution_count": null,
      "metadata": {
        "colab": {
          "base_uri": "https://localhost:8080/",
          "height": 283
        },
        "id": "F0eTtwmSZGQn",
        "outputId": "cfc8de37-37ca-439c-a2d8-82fed2ba159e"
      },
      "outputs": [
        {
          "data": {
            "text/plain": [
              "<matplotlib.image.AxesImage at 0x7fe1b6552790>"
            ]
          },
          "execution_count": 104,
          "metadata": {},
          "output_type": "execute_result"
        },
        {
          "data": {
            "image/png": "[encoded data removed]",
            "text/plain": [
              "<Figure size 432x288 with 1 Axes>"
            ]
          },
          "metadata": {
            "needs_background": "light"
          },
          "output_type": "display_data"
        }
      ],
      "source": []
    },
    {
      "cell_type": "code",
      "execution_count": null,
      "metadata": {
        "id": "onfLjtuZatoe"
      },
      "outputs": [],
      "source": []
    }
  ],
  "metadata": {
    "colab": {
      "provenance": []
    },
    "kernelspec": {
      "display_name": "Python 3.10.7 64-bit",
      "language": "python",
      "name": "python3"
    },
    "language_info": {
      "codemirror_mode": {
        "name": "ipython",
        "version": 3
      },
      "file_extension": ".py",
      "mimetype": "text/x-python",
      "name": "python",
      "nbconvert_exporter": "python",
      "pygments_lexer": "ipython3",
      "version": "3.10.7"
    },
    "vscode": {
      "interpreter": {
        "hash": "381e8dd1e7ab979eda41ac3e32c7dfe16415dfd2a4396c079f384f6aeeaaf557"
      }
    }
  },
  "nbformat": 4,
  "nbformat_minor": 0
}
